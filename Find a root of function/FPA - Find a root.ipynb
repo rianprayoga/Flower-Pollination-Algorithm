{
 "cells": [
  {
   "cell_type": "code",
   "execution_count": 1,
   "metadata": {
    "collapsed": true
   },
   "outputs": [],
   "source": [
    "import matplotlib.pyplot as plt\n",
    "import numpy as np\n",
    "from scipy.stats import levy"
   ]
  },
  {
   "cell_type": "code",
   "execution_count": 16,
   "metadata": {},
   "outputs": [],
   "source": [
    "class FlowerPA():\n",
    "    def __init__(self, switch_probability=0.8, n_flowers=50, const_low=0, const_high=1, fx=None):\n",
    "        self.fx = fx\n",
    "        self.n_flowers = n_flowers\n",
    "        self.flowers = [None]*n_flowers\n",
    "        self.const_low = const_low\n",
    "        self.const_high = const_high\n",
    "        self.cost = np.zeros(n_flowers)\n",
    "        self.sp = switch_probability\n",
    "        \n",
    "        self.init_flowers()\n",
    "        self.best = self.flowers[self.cost.argmax()]\n",
    "    \n",
    "    def objective_function(self, x):\n",
    "        value_of_fx = self.fx(x)\n",
    "        cost = 0 - abs(value_of_fx) # the closer to zero, the better\n",
    "        return cost\n",
    "    \n",
    "    def init_flowers(self): #Initialization of flowers\n",
    "        for i in range(self.n_flowers):\n",
    "            seed = np.random.rand()\n",
    "            self.flowers[i] = seed * (self.const_high - self.const_low) + self.const_low\n",
    "            self.cost[i] = self.objective_function(self.flowers[i])\n",
    "  \n",
    "    def global_polination(self,x):\n",
    "        new_flower = x + levy.rvs() * (x - self.best)\n",
    "        return new_flower\n",
    "        \n",
    "    def local_polination(self,x, xj, xk):\n",
    "        new_flower = x + np.random.randn()* (xj- xk)\n",
    "        return new_flower\n",
    "    \n",
    "    def start_optimization(self, n_generation=100):\n",
    "        history = np.zeros((n_generation))\n",
    "        \n",
    "        for i in range(n_generation):\n",
    "            history[i] = self.best\n",
    "            p = np.random.rand()\n",
    "            for j in range(self.n_flowers):\n",
    "                if p < self.sp:\n",
    "                    new_tmp = self.global_polination(self.flowers[j])\n",
    "                else:\n",
    "                    r1 = np.random.randint(0, high = self.n_flowers)\n",
    "                    r2 = np.random.randint(0, high = self.n_flowers)\n",
    "                    new_tmp = self.local_polination(self.flowers[j], self.flowers[r1], self.flowers[r2])\n",
    "                \n",
    "                cost_tmp = self.objective_function(new_tmp)\n",
    "                if cost_tmp > self.cost[j]:\n",
    "                    self.flowers[j] = new_tmp\n",
    "                    self.cost[j] = cost_tmp\n",
    "                    \n",
    "            self.best = self.flowers[self.cost.argmax()]    \n",
    "        \n",
    "        return self.flowers, self.cost, history"
   ]
  },
  {
   "cell_type": "markdown",
   "metadata": {},
   "source": [
    "### Find a root of a given function with FPA "
   ]
  },
  {
   "cell_type": "markdown",
   "metadata": {},
   "source": [
    "Find a root of a given function, f(x) = 0 \n",
    "<br>For example : <i> f(x) = −x^3 + 4x^2 − 2x + 2 = 0 </i>"
   ]
  },
  {
   "cell_type": "code",
   "execution_count": 19,
   "metadata": {},
   "outputs": [],
   "source": [
    "func  = lambda x : -1*(x**3) + 4 * (x**2) - (2*x) + 2\n",
    "fpa = FlowerPA(switch_probability=0.6, n_flowers=100,const_low=0, const_high=5, fx=func)\n",
    "result, cost, hist = fpa.start_optimization(n_generation=300)"
   ]
  },
  {
   "cell_type": "code",
   "execution_count": 20,
   "metadata": {
    "scrolled": false
   },
   "outputs": [
    {
     "name": "stdout",
     "output_type": "stream",
     "text": [
      "the root :  3.5986745859536873\n",
      "the f(x) :  -9.417044406490049e-07\n"
     ]
    }
   ],
   "source": [
    "print('the root : ', result[cost.argmax()]) \n",
    "print('the f(x) : ',  func(result[cost.argmax()]))"
   ]
  },
  {
   "cell_type": "code",
   "execution_count": 32,
   "metadata": {},
   "outputs": [
    {
     "data": {
      "image/png": "[encoded data removed]",
      "text/plain": [
       "<Figure size 1080x576 with 1 Axes>"
      ]
     },
     "metadata": {},
     "output_type": "display_data"
    }
   ],
   "source": [
    "axis_x = np.arange(1, 301, 1)\n",
    "axis_y = func(hist)\n",
    "fig, ax = plt.subplots(figsize=(15, 8))\n",
    "ax.plot(axis_x, axis_y)\n",
    "\n",
    "ax.set(xlabel='#iteration', ylabel='f(x)', title='f(x) through iteration, the f(x) is getting closer to 0')\n",
    "ax.grid()\n",
    "plt.show()"
   ]
  }
 ],
 "metadata": {
  "kernelspec": {
   "display_name": "Base",
   "language": "python",
   "name": "base"
  },
  "language_info": {
   "codemirror_mode": {
    "name": "ipython",
    "version": 3
   },
   "file_extension": ".py",
   "mimetype": "text/x-python",
   "name": "python",
   "nbconvert_exporter": "python",
   "pygments_lexer": "ipython3",
   "version": "3.6.3"
  }
 },
 "nbformat": 4,
 "nbformat_minor": 2
}
