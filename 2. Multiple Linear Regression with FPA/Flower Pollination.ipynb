{
 "cells": [
  {
   "cell_type": "code",
   "execution_count": 8,
   "metadata": {
    "collapsed": true
   },
   "outputs": [],
   "source": [
    "from flowerpollination import FlowerPollinationAlgorithm as FPA \n",
    "import pandas as pd\n",
    "import numpy as np\n",
    "import matplotlib.pyplot as plt\n",
    "\n",
    "from sklearn.model_selection import train_test_split"
   ]
  },
  {
   "cell_type": "code",
   "execution_count": 9,
   "metadata": {
    "scrolled": true
   },
   "outputs": [
    {
     "data": {
      "text/html": [
       "<div>\n",
       "<style scoped>\n",
       "    .dataframe tbody tr th:only-of-type {\n",
       "        vertical-align: middle;\n",
       "    }\n",
       "\n",
       "    .dataframe tbody tr th {\n",
       "        vertical-align: top;\n",
       "    }\n",
       "\n",
       "    .dataframe thead th {\n",
       "        text-align: right;\n",
       "    }\n",
       "</style>\n",
       "<table border=\"1\" class=\"dataframe\">\n",
       "  <thead>\n",
       "    <tr style=\"text-align: right;\">\n",
       "      <th></th>\n",
       "      <th>0</th>\n",
       "      <th>1</th>\n",
       "      <th>2</th>\n",
       "      <th>3</th>\n",
       "      <th>4</th>\n",
       "      <th>target</th>\n",
       "    </tr>\n",
       "  </thead>\n",
       "  <tbody>\n",
       "    <tr>\n",
       "      <th>0</th>\n",
       "      <td>1.4628</td>\n",
       "      <td>1.4754</td>\n",
       "      <td>1.4671</td>\n",
       "      <td>1.4780</td>\n",
       "      <td>1.4776</td>\n",
       "      <td>1.4860</td>\n",
       "    </tr>\n",
       "    <tr>\n",
       "      <th>1</th>\n",
       "      <td>1.4754</td>\n",
       "      <td>1.4671</td>\n",
       "      <td>1.4780</td>\n",
       "      <td>1.4776</td>\n",
       "      <td>1.4860</td>\n",
       "      <td>1.4860</td>\n",
       "    </tr>\n",
       "    <tr>\n",
       "      <th>2</th>\n",
       "      <td>1.4671</td>\n",
       "      <td>1.4780</td>\n",
       "      <td>1.4776</td>\n",
       "      <td>1.4860</td>\n",
       "      <td>1.4860</td>\n",
       "      <td>1.4798</td>\n",
       "    </tr>\n",
       "    <tr>\n",
       "      <th>3</th>\n",
       "      <td>1.4780</td>\n",
       "      <td>1.4776</td>\n",
       "      <td>1.4860</td>\n",
       "      <td>1.4860</td>\n",
       "      <td>1.4798</td>\n",
       "      <td>1.4829</td>\n",
       "    </tr>\n",
       "    <tr>\n",
       "      <th>4</th>\n",
       "      <td>1.4776</td>\n",
       "      <td>1.4860</td>\n",
       "      <td>1.4860</td>\n",
       "      <td>1.4798</td>\n",
       "      <td>1.4829</td>\n",
       "      <td>1.4647</td>\n",
       "    </tr>\n",
       "  </tbody>\n",
       "</table>\n",
       "</div>"
      ],
      "text/plain": [
       "        0       1       2       3       4  target\n",
       "0  1.4628  1.4754  1.4671  1.4780  1.4776  1.4860\n",
       "1  1.4754  1.4671  1.4780  1.4776  1.4860  1.4860\n",
       "2  1.4671  1.4780  1.4776  1.4860  1.4860  1.4798\n",
       "3  1.4780  1.4776  1.4860  1.4860  1.4798  1.4829\n",
       "4  1.4776  1.4860  1.4860  1.4798  1.4829  1.4647"
      ]
     },
     "execution_count": 9,
     "metadata": {},
     "output_type": "execute_result"
    }
   ],
   "source": [
    "df_main_data = pd.read_csv('data_sw_5.csv')\n",
    "X = df_main_data.iloc[:,:5].values\n",
    "y = df_main_data['target'].values\n",
    "X_train, X_test, y_train, y_test = train_test_split(X, y, test_size=0.2)\n",
    "\n",
    "df_main_data.head()"
   ]
  },
  {
   "cell_type": "markdown",
   "metadata": {},
   "source": [
    "### TASK\n",
    "The 'target' feature in 'df_data' is continous values, so it will be forecasting task. The  well-known method to do forecasting is linear regression. In linear regression, we find relationship between output(dependent) variable and input(independent) variable. Based on 'df_data' the output variable, in this case 'target', depends on five inputs so it will be multiple linear regression.\n",
    "\n",
    "In multiple linear regression, we need to find the best parameter(coefficient) that fit best to the data. The <b>B</b> are the parameter we need to find and <b>x</b> are input. In this Notebook we use FPA(Flower Pollination Algorithm) to find the optimal parameter.\n",
    "\n",
    "![](image.png)"
   ]
  },
  {
   "cell_type": "markdown",
   "metadata": {},
   "source": [
    "### Mean Absolute Error and Fitness Function\n",
    "We evaluate each flower(solution) with fitness function, in fitness function we calculate the error based on MAE. The perfect solution will have fitness fucntion score 1. In this case the bigger the fitness fucntion score, the better the solution."
   ]
  },
  {
   "cell_type": "code",
   "execution_count": 10,
   "metadata": {
    "collapsed": true
   },
   "outputs": [],
   "source": [
    "def mean_abs_error( f, x_train, y_train):\n",
    "    tmp_y_pred = np.sum(f[1:] * x_train, axis=1)\n",
    "    y_pred = tmp_y_pred + f[0]\n",
    "    abs_error = abs(y_pred - y_train) \n",
    "    return np.mean(abs_error)\n",
    "\n",
    "def fitness_mae( f, x_train, y_train):\n",
    "    tmp = mean_abs_error( f, x_train, y_train)\n",
    "    fit = 1/(tmp+1)\n",
    "    return fit"
   ]
  },
  {
   "cell_type": "markdown",
   "metadata": {},
   "source": [
    "### Flower Pollination Algorithm\n",
    "Random number to generate population will be generated between 'low' and 'high'.\n",
    "<br>Iteration number, the iteration will stop if we reach this number.\n",
    "<br>Population size, the size of population\n",
    "<br>p, switch probability"
   ]
  },
  {
   "cell_type": "code",
   "execution_count": 11,
   "metadata": {
    "collapsed": true
   },
   "outputs": [],
   "source": [
    "low,high=0, 200 \n",
    "iterations_number = 500\n",
    "population_size = 50\n",
    "p = 0.8"
   ]
  },
  {
   "cell_type": "code",
   "execution_count": 12,
   "metadata": {
    "collapsed": true
   },
   "outputs": [],
   "source": [
    "fpa = FPA(fitness_mae, iterations_number, population_size, p=p, low=low, high=high)\n",
    "fpa.find_solution(X_train,y_train)"
   ]
  },
  {
   "cell_type": "markdown",
   "metadata": {},
   "source": [
    "### Plotting "
   ]
  },
  {
   "cell_type": "code",
   "execution_count": 13,
   "metadata": {},
   "outputs": [
    {
     "data": {
      "image/png": "[encoded data removed]",
      "text/plain": [
       "<Figure size 432x288 with 1 Axes>"
      ]
     },
     "metadata": {},
     "output_type": "display_data"
    }
   ],
   "source": [
    "plt.plot(fpa.avg, label='avg')\n",
    "plt.plot(fpa.bests, label='best')\n",
    "plt.ylabel('Fitness')\n",
    "plt.xlabel('Generation')\n",
    "plt.legend()\n",
    "plt.show()"
   ]
  },
  {
   "cell_type": "code",
   "execution_count": 14,
   "metadata": {},
   "outputs": [
    {
     "name": "stdout",
     "output_type": "stream",
     "text": [
      "best fitness 0.6129749745057954\n",
      "mae score 0.5962932421149397\n"
     ]
    }
   ],
   "source": [
    "solution = fpa.best[1]#get the parameter\n",
    "best_fitness = fpa.best[0]#get the best fitness based on training data\n",
    "\n",
    "print('best fitness' ,best_fitness)\n",
    "print('mae score', mean_abs_error(fpa.best[1], X_test, y_test) ) "
   ]
  }
 ],
 "metadata": {
  "kernelspec": {
   "display_name": "Base",
   "language": "python",
   "name": "base"
  },
  "language_info": {
   "codemirror_mode": {
    "name": "ipython",
    "version": 3
   },
   "file_extension": ".py",
   "mimetype": "text/x-python",
   "name": "python",
   "nbconvert_exporter": "python",
   "pygments_lexer": "ipython3",
   "version": "3.6.3"
  }
 },
 "nbformat": 4,
 "nbformat_minor": 2
}
